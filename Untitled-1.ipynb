{
 "cells": [
  {
   "cell_type": "code",
   "execution_count": 58,
   "metadata": {},
   "outputs": [
    {
     "name": "stdout",
     "output_type": "stream",
     "text": [
      "Fetched 217256 bytes from https://www.metacritic.com/browse/movies/score/metascore/year/filtered. Status: 200\n",
      "\n",
      "All titles: \n",
      "\n",
      "['Hit the Road', 'The Worst Person in the World', 'Belle', 'Nitram', 'A Hero', 'Lingui, The Sacred Bonds', \"We're All Going to the World's Fair\", 'Paris, 13th District', 'Sundown', 'Benediction', 'Strawberry Mansion', 'The Pink Cloud', 'Ray Donovan: The Movie', 'Scream', 'See for Me', 'Italian Studies', 'Munich: The Edge of War', 'Hotel Transylvania: Transformania', 'The 355']\n",
      "\n",
      "All dates: \n",
      "\n",
      "['April 22, 2022', 'February 4, 2022', 'January 14, 2022', 'March 30, 2022', 'January 7, 2022', 'February 4, 2022', 'April 15, 2022', 'April 15, 2022', 'January 28, 2022', 'May 13, 2022', 'February 18, 2022', 'January 14, 2022', 'January 14, 2022', 'January 14, 2022', 'January 7, 2022', 'January 14, 2022', 'January 7, 2022', 'January 14, 2022', 'January 7, 2022', 'AMG', 'IMDb', 'IVA', '<a href=\"https://privacyportal.onetrust.com/webform/79ba7c84-ebc2-4740-8d11-bf1cc4501e59/ae88e03f-2b16-4276-9980-27124ba4b2c1\" target=\"_blank\">Do Not Sell My Information</a>']\n",
      "\n",
      "All summaries: \n",
      "\n",
      "[\"Follows a chaotic, tender family that is on a road trip across a rugged landscape and fussing over the sick dog and getting on each others' nerves. Only the mysterious older brother is quiet.\", 'Director Joachim Trier returns with another modern twist on a classically constructed character portrait of contemporary life in Oslo. Chronicling four years in the life of Julie, The Worst Person in the World examines one woman’s quest for love and meaning in the modern world. Fluidly told in twelve chapters, the film features a breakout performance by Cannes Best Actress winner Renate Reinsve as she explores new professional avenues and embarks on relationships with two very different men (Anders Danielsen Lie and Herbert Nordrum) in her search for happiness and identity. [Neon]', 'Suzu is a shy, everyday high school student living in a rural village. For years, she has only been a shadow of herself. But when she enters “U”, a massive virtual world, she escapes into her online persona as Belle, a gorgeous and globally-beloved singer. One day, her concert is interrupted by a monstrous creature chased by vigilantes. As their hunt escalates, Suzu embarks on an emotional and epic quest to uncover the identity of this mysterious “beast” and to discover her true self in a world where you can be anyone.', 'Nitram lives with his mother and father in suburban Australia in the Mid 1990s. He lives a life of isolation and frustration at never being able to fit in.  That is until he unexpectedly finds a close friend in a reclusive heiress, Helen. However when that relationship meets a tragic end, and Nitram’s loneliness and anger grow, he begins a slow descent that leads to disaster.', \"Rahim is in jail for a debt he hasn't been able to pay. During a two-day leave, he tries to convince his creditor to withdraw his complaint in exchange for paying back part of the debt. Rahim is then confronted with a crisis he would never have imagined.\", 'Amina, a practicing Muslim, lives with her daughter, 15-year-old Maria. When Amina learns Maria is pregnant and wants to abort the child, they face an impossible situation in a country where abortion is legally and morally condemned.', 'Late on a cold night somewhere in the U.S., teenage Casey sits alone in her attic bedroom, scrolling the internet under the glow-in-the-dark stars and black-light posters that blanket the ceiling. She has finally decided to take the World’s Fair Challenge, an online role-playing horror game, and embrace the uncertainty it promises. After the initiation, she documents the changes that may or may not be happening to her, adding her experiences to the shuffle of online clips available for the world to see. As she begins to lose herself between dream and reality, a mysterious figure reaches out, claiming to see something special in her uploads.', 'Paris, 13th District today.  Émilie meets Camille who is attracted to Nora, who crosses paths with Amber. Three girls and a boy – They’re friends, sometimes lovers and often both.', 'Neil and Alice Bennett (Tim Roth, Charlotte Gainsbourg) are the core of a wealthy family on vacation in Mexico with younger members Colin and Alexa (Samuel Bottomley, Albertine Kotting McMillan) until a distant emergency cuts their trip short. When one relative disrupts the family’s tight-knit order, simmering tensions rise to the fore.', 'The story of English poet, writer and soldier Siegfried Sassoon.', 'In the not-too-distant future, an all-seeing surveillance state conducts “dream audits” to collect taxes on the unconscious lives of the populace. Mild-mannered government agent James Preble (Kentucker Audley) travels to a remote farmhouse to audit the dreams of Arabella “Bella” Isadora (Penny Fuller), an eccentric, aging artist. Entering Bella’s vast VHS archive, which contains a lifetime of dreams, Preble stumbles upon a secret that offers him a chance at love—and hope for escape. [Sundance]', 'After a toxic and mysterious pink cloud appeared, Giovana finds herself stuck in a flat with a man she just met, changing her life in a way she never expected.', 'A showdown decades in the making brings the Donovan family legacy full circle. As the events that made Ray who he is today finally come to light, the Donovans find themselves drawn back to Boston to face the past. Each of them struggles to overcome their violent upbringing, but destiny dies hard, and only their fierce love for each other keeps them in the fight. Whether they stand together or they go down swinging, one thing is certain – Ray doesn’t do loose ends.', 'Twenty-five years after a streak of brutal murders shocked the quiet town of Woodsboro, a new killer has donned the Ghostface mask and begins targeting a group of teenagers to resurrect secrets from the town’s deadly past.', 'A group of thieves break into the luxurious, secluded mansion Sophie is house-sitting. Sophie, a visually impaired former skier, must rely on Kelly, an army veteran living across the country, to help her fight back', 'While visiting New York City from her native London, writer Alina Reynolds (Vanessa Kirby) inexplicably loses her memory and suddenly becomes unmoored and adrift on the streets of Manhattan with no sense of time or place — or even her own name. As Alina’s consciousness swings between imagined conversations, fragments of her own short stories and the bustling city around her, she finds an anchor in charismatic teenager Simon (Simon Brickner). Drawn to the lost woman, Simon soon introduces Alina to his free-spirited group of friends, and together they make their way through a disorienting cityscape full of life, beauty, and music.', 'A British diplomat travels to Munich in the run-up to World War II, where a former classmate of his from Oxford is also en route, but is working for the German government.', 'Drac and the Pack are back, like you’ve never seen them before inHotel Transylvania: Transformania. Reunite with your favorite monsters for an all-new adventure that presents Drac (Brian Hull) with his most terrifying task yet.Drac and his monster pals are all transformed into humans, and Johnny (Andy Samberg) becomes a monster! In their new mismatched bodies, Drac, stripped of his powers, and an exuberant Johnny, loving life as a monster, must team up and race across the globe to find a cure before it’s too late, and before they drive each other crazy. With help from Mavis (Selena Gomez) and the hilariously human Drac Pack, the heat is on to find a way to switch themselves back before their transformations become permanent.', 'When a top-secret weapon falls into mercenary hands, wild card CIA agent Mason “Mace” Brown (Jessica Chastain) will need to join forces with rival badass German agent Marie (Diane Kruger), former MI6 ally and cutting-edge computer specialist Khadijah (Lupita Nyong’o), and skilled Colombian psychologist Graciela (Penélope Cruz) on a lethal, breakneck mission to retrieve it, while also staying one-step ahead of a mysterious woman, Lin Mi Sheng (Bingbing Fan), who is tracking their every move.']\n",
      "\n",
      "All metascores: \n",
      "\n",
      "['89', '89', '88', '88', '84', '84', '82', '82', '81', '81', '79', '79', '78', '78', '78', '78', '76', '76', '75', '75', '73', '73', '70', '70', '66', '66']\n"
     ]
    }
   ],
   "source": [
    "import urllib3\n",
    "\n",
    "link = \"https://www.metacritic.com/browse/movies/score/metascore/year/filtered\"\n",
    "\n",
    "# Construct a python request pool\n",
    "urllib3.disable_warnings()\n",
    "http = urllib3.PoolManager(cert_reqs='CERT_NONE')\n",
    "\n",
    "# Initiate a web request\n",
    "r = http.request('GET', link, headers={'User-Agent': 'Mozilla/5.0'})\n",
    "\n",
    "# Convert the result from raw bytes to text\n",
    "datastring = str(r.data, \"utf-8\")\n",
    "\n",
    "# Check whether it succeeded and how much data we got from the site\n",
    "print(\"Fetched \" + str(len(r.data)) + \" bytes from \" + link + \". Status: \" + str(r.status) + \"\\n\")\n",
    "\n",
    "import re\n",
    "\n",
    "# Searching for titles\n",
    "print(\"All titles: \\n\")\n",
    "titles = re.findall(\"class=\\\"title\\\"><h3>(.*)<\\\\/h3><\\\\/a>\", datastring)\n",
    "print(titles)\n",
    "\n",
    "# Searching for dates\n",
    "print(\"\\nAll dates: \\n\")\n",
    "dates = re.findall(\"<span>(.*)<\\/span>\", datastring)\n",
    "print(dates)\n",
    "\n",
    "# Searching for summaries\n",
    "print(\"\\nAll summaries: \\n\")\n",
    "summaries = re.findall(\"<div class=\\\"summary\\\">\\n\\s+(.*)\", datastring)\n",
    "print(summaries)\n",
    "\n",
    "# Searching for metascore\n",
    "print(\"\\nAll metascores: \\n\")\n",
    "metascore = re.findall(\"<div class=\\\"metascore_w large movie positive\\\">(.*)<\\/div>\", datastring)\n",
    "print(metascore)"
   ]
  }
 ],
 "metadata": {
  "interpreter": {
   "hash": "4f9f2c9b70c161811acce7cfb0d5276c8e021f2c23ff25aee3e2e008f222f1fb"
  },
  "kernelspec": {
   "display_name": "Python 3.8.5 32-bit",
   "language": "python",
   "name": "python3"
  },
  "language_info": {
   "codemirror_mode": {
    "name": "ipython",
    "version": 3
   },
   "file_extension": ".py",
   "mimetype": "text/x-python",
   "name": "python",
   "nbconvert_exporter": "python",
   "pygments_lexer": "ipython3",
   "version": "3.8.5"
  },
  "orig_nbformat": 4
 },
 "nbformat": 4,
 "nbformat_minor": 2
}
